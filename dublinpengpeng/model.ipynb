{
 "cells": [
  {
   "cell_type": "markdown",
   "metadata": {},
   "source": [
    "## COMP30830 - Software Engineering\n",
    "### Project: DublinBikes  \n",
    "Group work by:  \n",
    "\n",
    "**Xi Jiang  \n",
    "Yuqian Shu  \n",
    "Yi Zhang**"
   ]
  },
  {
   "cell_type": "markdown",
   "metadata": {},
   "source": [
    "### Machine Learning prediction model\n",
    "In this notebook we develop a ML model to predict two key values that are functional to our web application:  \n",
    "  \n",
    "**number of available bikes for a selected station  \n",
    "number of available bike stands for a selected station**  \n",
    "  \n",
    "The model is trained on data fetched from an Amazon RDS database, where we store historical data referring to:\n",
    "  \n",
    "real-time information that Dublin Bikes makes available through their web API  \n",
    "Dublin weather information from OpenWeather, obtained by a web API  \n",
    "***N.B.:*** all database data are kept up-to-date."
   ]
  },
  {
   "cell_type": "markdown",
   "metadata": {},
   "source": [
    "### Getting started\n",
    "First of all, we need to import Python packages that are required to our model, as well as fetching the data from the Amazon RDS database."
   ]
  },
  {
   "cell_type": "markdown",
   "metadata": {},
   "source": [
    "#### Import required packages\n",
    "A number of Python packages are required for our model in order to work, so we import them in our Notebook."
   ]
  },
  {
   "cell_type": "code",
   "execution_count": 1,
   "metadata": {},
   "outputs": [],
   "source": [
    "import pickle \n",
    "#import seaborn as sns\n",
    "#import matplotlib.pyplot as plt\n",
    "import pandas as pd \n",
    "#import numpy as np \n",
    "#import json\n",
    "import pymysql\n",
    "\n",
    "#from sklearn.linear_model import LinearRegression\n",
    "from sklearn.ensemble import RandomForestRegressor\n",
    "from sklearn.model_selection import train_test_split\n",
    "#from sklearn.preprocessing import PolynomialFeatures\n",
    "#from sklearn.pipeline import make_pipeline\n",
    "#from patsy import dmatrices\n",
    "from sklearn import metrics\n",
    "#from sklearn.model_selection import cross_validate"
   ]
  },
  {
   "cell_type": "markdown",
   "metadata": {},
   "source": [
    "#### Connect to Amazon RDS database\n",
    "After having stored all the necessary credentials in specific variables, we connect to the database providing error-handling in case of connection issues."
   ]
  },
  {
   "cell_type": "code",
   "execution_count": 2,
   "metadata": {},
   "outputs": [
    {
     "name": "stdout",
     "output_type": "stream",
     "text": [
      "+=========================+\n",
      "|    TRYING TO CONNECT    |\n",
      "+=========================+\n",
      "|        SUCCESS!         |\n",
      "+=========================+\n"
     ]
    }
   ],
   "source": [
    "# Attempt connection to database\n",
    "# Print a statement on the screen to check whether the connection is working\n",
    "try:\n",
    "    con = pymysql.connect(host='dublinbike.cczltqdfsp1t.eu-west-1.rds.amazonaws.com', user='root', passwd='shuyuqian',db='dublin')\n",
    "    print('+=========================+')\n",
    "    print('|    TRYING TO CONNECT    |')\n",
    "    print('+=========================+')\n",
    "    print('|        SUCCESS!         |')\n",
    "    print('+=========================+')\n",
    "    \n",
    "# Exit if connection not working   \n",
    "except Exception as e:\n",
    "        sys.exit(e)"
   ]
  },
  {
   "cell_type": "markdown",
   "metadata": {},
   "source": [
    "#### Data fetching\n",
    "Bikes information\n",
    "We store real-time data from Dublin Bikes in a relation named \"availability\" in the RDS database schema.  \n",
    "We store weather data from OpenWeather in a relation named \"weather\" in the RDS database schema.\n",
    "  \n",
    "We fetch Pandas dataframe object and we examine it.\n",
    "\n",
    "***N.B.:***We started scrapping the bikes data on 02/03/2020"
   ]
  },
  {
   "cell_type": "code",
   "execution_count": 3,
   "metadata": {},
   "outputs": [
    {
     "data": {
      "text/html": [
       "<div>\n",
       "<style scoped>\n",
       "    .dataframe tbody tr th:only-of-type {\n",
       "        vertical-align: middle;\n",
       "    }\n",
       "\n",
       "    .dataframe tbody tr th {\n",
       "        vertical-align: top;\n",
       "    }\n",
       "\n",
       "    .dataframe thead th {\n",
       "        text-align: right;\n",
       "    }\n",
       "</style>\n",
       "<table border=\"1\" class=\"dataframe\">\n",
       "  <thead>\n",
       "    <tr style=\"text-align: right;\">\n",
       "      <th></th>\n",
       "      <th>datetime</th>\n",
       "      <th>number</th>\n",
       "      <th>available_bikes</th>\n",
       "      <th>available_bike_stands</th>\n",
       "      <th>last_update</th>\n",
       "      <th>dateTime</th>\n",
       "      <th>weatherID</th>\n",
       "      <th>weatherMain</th>\n",
       "      <th>weatherDescr</th>\n",
       "      <th>weatherIcon</th>\n",
       "      <th>temperature</th>\n",
       "      <th>pressure</th>\n",
       "      <th>humidity</th>\n",
       "      <th>tempMin</th>\n",
       "      <th>tempMax</th>\n",
       "      <th>visibility</th>\n",
       "      <th>windSpeed</th>\n",
       "      <th>windDeg</th>\n",
       "      <th>clouds</th>\n",
       "      <th>datetimeB</th>\n",
       "    </tr>\n",
       "  </thead>\n",
       "  <tbody>\n",
       "    <tr>\n",
       "      <th>0</th>\n",
       "      <td>03-Mar-2020 (10:29:28.225236)</td>\n",
       "      <td>42</td>\n",
       "      <td>0</td>\n",
       "      <td>30</td>\n",
       "      <td>0</td>\n",
       "      <td>2020-03-03 10:33:00</td>\n",
       "      <td>801</td>\n",
       "      <td>Clouds</td>\n",
       "      <td>few clouds</td>\n",
       "      <td>02d</td>\n",
       "      <td>6</td>\n",
       "      <td>999</td>\n",
       "      <td>80</td>\n",
       "      <td>5</td>\n",
       "      <td>7</td>\n",
       "      <td>10000</td>\n",
       "      <td>10</td>\n",
       "      <td>270</td>\n",
       "      <td>20</td>\n",
       "      <td>2020-03-03 10:29:28</td>\n",
       "    </tr>\n",
       "    <tr>\n",
       "      <th>1</th>\n",
       "      <td>03-Mar-2020 (10:29:28.225236)</td>\n",
       "      <td>30</td>\n",
       "      <td>0</td>\n",
       "      <td>20</td>\n",
       "      <td>0</td>\n",
       "      <td>2020-03-03 10:33:00</td>\n",
       "      <td>801</td>\n",
       "      <td>Clouds</td>\n",
       "      <td>few clouds</td>\n",
       "      <td>02d</td>\n",
       "      <td>6</td>\n",
       "      <td>999</td>\n",
       "      <td>80</td>\n",
       "      <td>5</td>\n",
       "      <td>7</td>\n",
       "      <td>10000</td>\n",
       "      <td>10</td>\n",
       "      <td>270</td>\n",
       "      <td>20</td>\n",
       "      <td>2020-03-03 10:29:28</td>\n",
       "    </tr>\n",
       "    <tr>\n",
       "      <th>2</th>\n",
       "      <td>03-Mar-2020 (10:29:28.225236)</td>\n",
       "      <td>54</td>\n",
       "      <td>11</td>\n",
       "      <td>22</td>\n",
       "      <td>0</td>\n",
       "      <td>2020-03-03 10:33:00</td>\n",
       "      <td>801</td>\n",
       "      <td>Clouds</td>\n",
       "      <td>few clouds</td>\n",
       "      <td>02d</td>\n",
       "      <td>6</td>\n",
       "      <td>999</td>\n",
       "      <td>80</td>\n",
       "      <td>5</td>\n",
       "      <td>7</td>\n",
       "      <td>10000</td>\n",
       "      <td>10</td>\n",
       "      <td>270</td>\n",
       "      <td>20</td>\n",
       "      <td>2020-03-03 10:29:28</td>\n",
       "    </tr>\n",
       "    <tr>\n",
       "      <th>3</th>\n",
       "      <td>03-Mar-2020 (10:29:28.225236)</td>\n",
       "      <td>108</td>\n",
       "      <td>0</td>\n",
       "      <td>40</td>\n",
       "      <td>0</td>\n",
       "      <td>2020-03-03 10:33:00</td>\n",
       "      <td>801</td>\n",
       "      <td>Clouds</td>\n",
       "      <td>few clouds</td>\n",
       "      <td>02d</td>\n",
       "      <td>6</td>\n",
       "      <td>999</td>\n",
       "      <td>80</td>\n",
       "      <td>5</td>\n",
       "      <td>7</td>\n",
       "      <td>10000</td>\n",
       "      <td>10</td>\n",
       "      <td>270</td>\n",
       "      <td>20</td>\n",
       "      <td>2020-03-03 10:29:28</td>\n",
       "    </tr>\n",
       "    <tr>\n",
       "      <th>4</th>\n",
       "      <td>03-Mar-2020 (10:29:28.225236)</td>\n",
       "      <td>56</td>\n",
       "      <td>31</td>\n",
       "      <td>9</td>\n",
       "      <td>0</td>\n",
       "      <td>2020-03-03 10:33:00</td>\n",
       "      <td>801</td>\n",
       "      <td>Clouds</td>\n",
       "      <td>few clouds</td>\n",
       "      <td>02d</td>\n",
       "      <td>6</td>\n",
       "      <td>999</td>\n",
       "      <td>80</td>\n",
       "      <td>5</td>\n",
       "      <td>7</td>\n",
       "      <td>10000</td>\n",
       "      <td>10</td>\n",
       "      <td>270</td>\n",
       "      <td>20</td>\n",
       "      <td>2020-03-03 10:29:28</td>\n",
       "    </tr>\n",
       "  </tbody>\n",
       "</table>\n",
       "</div>"
      ],
      "text/plain": [
       "                        datetime  number  available_bikes  \\\n",
       "0  03-Mar-2020 (10:29:28.225236)      42                0   \n",
       "1  03-Mar-2020 (10:29:28.225236)      30                0   \n",
       "2  03-Mar-2020 (10:29:28.225236)      54               11   \n",
       "3  03-Mar-2020 (10:29:28.225236)     108                0   \n",
       "4  03-Mar-2020 (10:29:28.225236)      56               31   \n",
       "\n",
       "   available_bike_stands  last_update            dateTime  weatherID  \\\n",
       "0                     30            0 2020-03-03 10:33:00        801   \n",
       "1                     20            0 2020-03-03 10:33:00        801   \n",
       "2                     22            0 2020-03-03 10:33:00        801   \n",
       "3                     40            0 2020-03-03 10:33:00        801   \n",
       "4                      9            0 2020-03-03 10:33:00        801   \n",
       "\n",
       "  weatherMain weatherDescr weatherIcon  temperature  pressure  humidity  \\\n",
       "0      Clouds   few clouds         02d            6       999        80   \n",
       "1      Clouds   few clouds         02d            6       999        80   \n",
       "2      Clouds   few clouds         02d            6       999        80   \n",
       "3      Clouds   few clouds         02d            6       999        80   \n",
       "4      Clouds   few clouds         02d            6       999        80   \n",
       "\n",
       "   tempMin  tempMax  visibility  windSpeed  windDeg  clouds  \\\n",
       "0        5        7       10000         10      270      20   \n",
       "1        5        7       10000         10      270      20   \n",
       "2        5        7       10000         10      270      20   \n",
       "3        5        7       10000         10      270      20   \n",
       "4        5        7       10000         10      270      20   \n",
       "\n",
       "            datetimeB  \n",
       "0 2020-03-03 10:29:28  \n",
       "1 2020-03-03 10:29:28  \n",
       "2 2020-03-03 10:29:28  \n",
       "3 2020-03-03 10:29:28  \n",
       "4 2020-03-03 10:29:28  "
      ]
     },
     "execution_count": 3,
     "metadata": {},
     "output_type": "execute_result"
    }
   ],
   "source": [
    "# Create dataframe and store data running SQL query\n",
    "df_AllStations = pd.read_sql_query(\"select *,cast(str_to_date(availability.datetime,'%d-%b-%Y (%H:%i:%s.%f)' )as datetime) as datetimeB FROM dublin.availability, dublin.Weather having abs(datetimeB-Weather.dateTime)<10800 and Weather.dateTime<'2020/4/07'\", con)\n",
    "\n",
    "# Examine dataframe object, show first 10 rows\n",
    "df_AllStations.head(5)"
   ]
  },
  {
   "cell_type": "code",
   "execution_count": 4,
   "metadata": {},
   "outputs": [
    {
     "data": {
      "text/plain": [
       "(166210, 20)"
      ]
     },
     "execution_count": 4,
     "metadata": {},
     "output_type": "execute_result"
    }
   ],
   "source": [
    "df_AllStations.shape"
   ]
  },
  {
   "cell_type": "code",
   "execution_count": 5,
   "metadata": {},
   "outputs": [],
   "source": [
    "#create column for day of the week\n",
    "df_AllStations['weekday'] = df_AllStations['datetimeB'].dt.dayofweek\n",
    "df_AllStations['hour'] = df_AllStations['datetimeB'].dt.hour\n",
    "df_AllStations['minutes'] = df_AllStations['datetimeB'].dt.minute"
   ]
  },
  {
   "cell_type": "code",
   "execution_count": 6,
   "metadata": {},
   "outputs": [],
   "source": [
    "#use number to replace weekdays\n",
    "df_AllStations['weekday'] = df_AllStations['weekday'].replace(0, 'Monday')\n",
    "df_AllStations['weekday'] = df_AllStations['weekday'].replace(1, 'Tuesday')\n",
    "df_AllStations['weekday'] = df_AllStations['weekday'].replace(2, 'Wednesday')\n",
    "df_AllStations['weekday'] = df_AllStations['weekday'].replace(3, 'Thursday')\n",
    "df_AllStations['weekday'] = df_AllStations['weekday'].replace(4, 'Friday')\n",
    "df_AllStations['weekday'] = df_AllStations['weekday'].replace(5, 'Saturday')\n",
    "df_AllStations['weekday'] = df_AllStations['weekday'].replace(6, 'Sunday')"
   ]
  },
  {
   "cell_type": "code",
   "execution_count": 7,
   "metadata": {},
   "outputs": [
    {
     "data": {
      "text/plain": [
       "Index(['datetime', 'number', 'available_bikes', 'available_bike_stands',\n",
       "       'last_update', 'dateTime', 'weatherID', 'weatherMain', 'weatherDescr',\n",
       "       'weatherIcon', 'temperature', 'pressure', 'humidity', 'tempMin',\n",
       "       'tempMax', 'visibility', 'windSpeed', 'windDeg', 'clouds', 'datetimeB',\n",
       "       'weekday', 'hour', 'minutes'],\n",
       "      dtype='object')"
      ]
     },
     "execution_count": 7,
     "metadata": {},
     "output_type": "execute_result"
    }
   ],
   "source": [
    "#show all the columns of the dataframe\n",
    "df_AllStations.columns"
   ]
  },
  {
   "cell_type": "markdown",
   "metadata": {},
   "source": [
    "### Dummy coding(categorical -> continuous)"
   ]
  },
  {
   "cell_type": "markdown",
   "metadata": {},
   "source": [
    "We need to incorporate the following information (variables) in our model, but they are not immediately usable as they come in a categorical form:  \n",
    "**cloud coverage  \n",
    "day of the week**  \n",
    "Thus, we transform them in a series of dummy variables. The process is known as \"dummy coding\"."
   ]
  },
  {
   "cell_type": "code",
   "execution_count": 8,
   "metadata": {},
   "outputs": [],
   "source": [
    "# Create a separate dataframe with days of the week (categorical)\n",
    "data_input1 = pd.DataFrame(df_AllStations['weekday'])\n",
    "\n",
    "# Create a separate dataframe with cloud coverage information (categorical)\n",
    "data_input2 = pd.DataFrame(df_AllStations['weatherMain'])\n",
    "\n",
    "# Concatenate the two dataframes in the main one\n",
    "dummy = pd.get_dummies(data_input1)\n",
    "dummy_2 = pd.get_dummies(data_input2)\n",
    "df_AllStations = pd.concat([df_AllStations,dummy],axis=1)\n",
    "df_AllStations = pd.concat([df_AllStations,dummy_2],axis=1)"
   ]
  },
  {
   "cell_type": "code",
   "execution_count": 9,
   "metadata": {},
   "outputs": [
    {
     "data": {
      "text/html": [
       "<div>\n",
       "<style scoped>\n",
       "    .dataframe tbody tr th:only-of-type {\n",
       "        vertical-align: middle;\n",
       "    }\n",
       "\n",
       "    .dataframe tbody tr th {\n",
       "        vertical-align: top;\n",
       "    }\n",
       "\n",
       "    .dataframe thead th {\n",
       "        text-align: right;\n",
       "    }\n",
       "</style>\n",
       "<table border=\"1\" class=\"dataframe\">\n",
       "  <thead>\n",
       "    <tr style=\"text-align: right;\">\n",
       "      <th></th>\n",
       "      <th>datetime</th>\n",
       "      <th>number</th>\n",
       "      <th>available_bikes</th>\n",
       "      <th>available_bike_stands</th>\n",
       "      <th>last_update</th>\n",
       "      <th>dateTime</th>\n",
       "      <th>weatherID</th>\n",
       "      <th>weatherMain</th>\n",
       "      <th>weatherDescr</th>\n",
       "      <th>weatherIcon</th>\n",
       "      <th>...</th>\n",
       "      <th>weekday_Saturday</th>\n",
       "      <th>weekday_Sunday</th>\n",
       "      <th>weekday_Thursday</th>\n",
       "      <th>weekday_Tuesday</th>\n",
       "      <th>weekday_Wednesday</th>\n",
       "      <th>weatherMain_Clear</th>\n",
       "      <th>weatherMain_Clouds</th>\n",
       "      <th>weatherMain_Drizzle</th>\n",
       "      <th>weatherMain_Mist</th>\n",
       "      <th>weatherMain_Rain</th>\n",
       "    </tr>\n",
       "  </thead>\n",
       "  <tbody>\n",
       "    <tr>\n",
       "      <th>0</th>\n",
       "      <td>03-Mar-2020 (10:29:28.225236)</td>\n",
       "      <td>42</td>\n",
       "      <td>0</td>\n",
       "      <td>30</td>\n",
       "      <td>0</td>\n",
       "      <td>2020-03-03 10:33:00</td>\n",
       "      <td>801</td>\n",
       "      <td>Clouds</td>\n",
       "      <td>few clouds</td>\n",
       "      <td>02d</td>\n",
       "      <td>...</td>\n",
       "      <td>0</td>\n",
       "      <td>0</td>\n",
       "      <td>0</td>\n",
       "      <td>1</td>\n",
       "      <td>0</td>\n",
       "      <td>0</td>\n",
       "      <td>1</td>\n",
       "      <td>0</td>\n",
       "      <td>0</td>\n",
       "      <td>0</td>\n",
       "    </tr>\n",
       "    <tr>\n",
       "      <th>1</th>\n",
       "      <td>03-Mar-2020 (10:29:28.225236)</td>\n",
       "      <td>30</td>\n",
       "      <td>0</td>\n",
       "      <td>20</td>\n",
       "      <td>0</td>\n",
       "      <td>2020-03-03 10:33:00</td>\n",
       "      <td>801</td>\n",
       "      <td>Clouds</td>\n",
       "      <td>few clouds</td>\n",
       "      <td>02d</td>\n",
       "      <td>...</td>\n",
       "      <td>0</td>\n",
       "      <td>0</td>\n",
       "      <td>0</td>\n",
       "      <td>1</td>\n",
       "      <td>0</td>\n",
       "      <td>0</td>\n",
       "      <td>1</td>\n",
       "      <td>0</td>\n",
       "      <td>0</td>\n",
       "      <td>0</td>\n",
       "    </tr>\n",
       "    <tr>\n",
       "      <th>2</th>\n",
       "      <td>03-Mar-2020 (10:29:28.225236)</td>\n",
       "      <td>54</td>\n",
       "      <td>11</td>\n",
       "      <td>22</td>\n",
       "      <td>0</td>\n",
       "      <td>2020-03-03 10:33:00</td>\n",
       "      <td>801</td>\n",
       "      <td>Clouds</td>\n",
       "      <td>few clouds</td>\n",
       "      <td>02d</td>\n",
       "      <td>...</td>\n",
       "      <td>0</td>\n",
       "      <td>0</td>\n",
       "      <td>0</td>\n",
       "      <td>1</td>\n",
       "      <td>0</td>\n",
       "      <td>0</td>\n",
       "      <td>1</td>\n",
       "      <td>0</td>\n",
       "      <td>0</td>\n",
       "      <td>0</td>\n",
       "    </tr>\n",
       "    <tr>\n",
       "      <th>3</th>\n",
       "      <td>03-Mar-2020 (10:29:28.225236)</td>\n",
       "      <td>108</td>\n",
       "      <td>0</td>\n",
       "      <td>40</td>\n",
       "      <td>0</td>\n",
       "      <td>2020-03-03 10:33:00</td>\n",
       "      <td>801</td>\n",
       "      <td>Clouds</td>\n",
       "      <td>few clouds</td>\n",
       "      <td>02d</td>\n",
       "      <td>...</td>\n",
       "      <td>0</td>\n",
       "      <td>0</td>\n",
       "      <td>0</td>\n",
       "      <td>1</td>\n",
       "      <td>0</td>\n",
       "      <td>0</td>\n",
       "      <td>1</td>\n",
       "      <td>0</td>\n",
       "      <td>0</td>\n",
       "      <td>0</td>\n",
       "    </tr>\n",
       "    <tr>\n",
       "      <th>4</th>\n",
       "      <td>03-Mar-2020 (10:29:28.225236)</td>\n",
       "      <td>56</td>\n",
       "      <td>31</td>\n",
       "      <td>9</td>\n",
       "      <td>0</td>\n",
       "      <td>2020-03-03 10:33:00</td>\n",
       "      <td>801</td>\n",
       "      <td>Clouds</td>\n",
       "      <td>few clouds</td>\n",
       "      <td>02d</td>\n",
       "      <td>...</td>\n",
       "      <td>0</td>\n",
       "      <td>0</td>\n",
       "      <td>0</td>\n",
       "      <td>1</td>\n",
       "      <td>0</td>\n",
       "      <td>0</td>\n",
       "      <td>1</td>\n",
       "      <td>0</td>\n",
       "      <td>0</td>\n",
       "      <td>0</td>\n",
       "    </tr>\n",
       "  </tbody>\n",
       "</table>\n",
       "<p>5 rows × 35 columns</p>\n",
       "</div>"
      ],
      "text/plain": [
       "                        datetime  number  available_bikes  \\\n",
       "0  03-Mar-2020 (10:29:28.225236)      42                0   \n",
       "1  03-Mar-2020 (10:29:28.225236)      30                0   \n",
       "2  03-Mar-2020 (10:29:28.225236)      54               11   \n",
       "3  03-Mar-2020 (10:29:28.225236)     108                0   \n",
       "4  03-Mar-2020 (10:29:28.225236)      56               31   \n",
       "\n",
       "   available_bike_stands  last_update            dateTime  weatherID  \\\n",
       "0                     30            0 2020-03-03 10:33:00        801   \n",
       "1                     20            0 2020-03-03 10:33:00        801   \n",
       "2                     22            0 2020-03-03 10:33:00        801   \n",
       "3                     40            0 2020-03-03 10:33:00        801   \n",
       "4                      9            0 2020-03-03 10:33:00        801   \n",
       "\n",
       "  weatherMain weatherDescr weatherIcon  ...  weekday_Saturday  weekday_Sunday  \\\n",
       "0      Clouds   few clouds         02d  ...                 0               0   \n",
       "1      Clouds   few clouds         02d  ...                 0               0   \n",
       "2      Clouds   few clouds         02d  ...                 0               0   \n",
       "3      Clouds   few clouds         02d  ...                 0               0   \n",
       "4      Clouds   few clouds         02d  ...                 0               0   \n",
       "\n",
       "   weekday_Thursday  weekday_Tuesday  weekday_Wednesday  weatherMain_Clear  \\\n",
       "0                 0                1                  0                  0   \n",
       "1                 0                1                  0                  0   \n",
       "2                 0                1                  0                  0   \n",
       "3                 0                1                  0                  0   \n",
       "4                 0                1                  0                  0   \n",
       "\n",
       "   weatherMain_Clouds  weatherMain_Drizzle  weatherMain_Mist weatherMain_Rain  \n",
       "0                   1                    0                 0                0  \n",
       "1                   1                    0                 0                0  \n",
       "2                   1                    0                 0                0  \n",
       "3                   1                    0                 0                0  \n",
       "4                   1                    0                 0                0  \n",
       "\n",
       "[5 rows x 35 columns]"
      ]
     },
     "execution_count": 9,
     "metadata": {},
     "output_type": "execute_result"
    }
   ],
   "source": [
    "## Examine dataframe object, show first rows\n",
    "df_AllStations.head()"
   ]
  },
  {
   "cell_type": "markdown",
   "metadata": {},
   "source": [
    "### Check dataframe state"
   ]
  },
  {
   "cell_type": "markdown",
   "metadata": {},
   "source": [
    "#### New columns\n",
    "The new dummy coded variables have been concatenated at the end of the dataframe, so we now check our dataframe shape."
   ]
  },
  {
   "cell_type": "code",
   "execution_count": 10,
   "metadata": {},
   "outputs": [
    {
     "name": "stdout",
     "output_type": "stream",
     "text": [
      "The dataset has 166210 rows and 35 columns.\n"
     ]
    }
   ],
   "source": [
    "# Show number of rows and columns of the dataframe\n",
    "print(\"The dataset has %s rows and %s columns.\" % df_AllStations.shape)"
   ]
  },
  {
   "cell_type": "markdown",
   "metadata": {},
   "source": [
    "#### Data types\n",
    "As a further check, we analyze the data type in our dataframe."
   ]
  },
  {
   "cell_type": "code",
   "execution_count": 11,
   "metadata": {},
   "outputs": [
    {
     "data": {
      "text/plain": [
       "datetime                         object\n",
       "number                            int64\n",
       "available_bikes                   int64\n",
       "available_bike_stands             int64\n",
       "last_update                       int64\n",
       "dateTime                 datetime64[ns]\n",
       "weatherID                         int64\n",
       "weatherMain                      object\n",
       "weatherDescr                     object\n",
       "weatherIcon                      object\n",
       "temperature                       int64\n",
       "pressure                          int64\n",
       "humidity                          int64\n",
       "tempMin                           int64\n",
       "tempMax                           int64\n",
       "visibility                        int64\n",
       "windSpeed                         int64\n",
       "windDeg                           int64\n",
       "clouds                            int64\n",
       "datetimeB                datetime64[ns]\n",
       "weekday                          object\n",
       "hour                              int64\n",
       "minutes                           int64\n",
       "weekday_Friday                    uint8\n",
       "weekday_Monday                    uint8\n",
       "weekday_Saturday                  uint8\n",
       "weekday_Sunday                    uint8\n",
       "weekday_Thursday                  uint8\n",
       "weekday_Tuesday                   uint8\n",
       "weekday_Wednesday                 uint8\n",
       "weatherMain_Clear                 uint8\n",
       "weatherMain_Clouds                uint8\n",
       "weatherMain_Drizzle               uint8\n",
       "weatherMain_Mist                  uint8\n",
       "weatherMain_Rain                  uint8\n",
       "dtype: object"
      ]
     },
     "execution_count": 11,
     "metadata": {},
     "output_type": "execute_result"
    }
   ],
   "source": [
    "df_AllStations.dtypes"
   ]
  },
  {
   "cell_type": "markdown",
   "metadata": {},
   "source": [
    "### ML model\n",
    "In order to predict our two target variables  \n",
    "\n",
    "**number of available bikes  \n",
    "number of available bike stands**  \n",
    "we need two differnt ML models that are trained in the following section.  \n",
    "After having tested the regression model as a viable alternative, we decided to implement a *Random Forest* classifier model, as it proves to be a more effective predictor.\n",
    "  \n",
    " ***N.B.:*** we train our models on a random selection of 2/3 of the original dataset. We perform testing on the remain"
   ]
  },
  {
   "cell_type": "markdown",
   "metadata": {},
   "source": [
    "#### (1)Predict the number of available bikes"
   ]
  },
  {
   "cell_type": "markdown",
   "metadata": {},
   "source": [
    "**model training**"
   ]
  },
  {
   "cell_type": "code",
   "execution_count": 12,
   "metadata": {},
   "outputs": [],
   "source": [
    "# Select model features and store them in a new dataframe\n",
    "input_model = pd.DataFrame(df_AllStations[['number','temperature','windSpeed','hour','weekday_Friday', 'weekday_Monday',\n",
    "       'weekday_Saturday', 'weekday_Sunday', 'weekday_Thursday',\n",
    "       'weekday_Tuesday', 'weekday_Wednesday']])\n",
    "input_model = pd.concat([input_model,dummy_2],axis=1)\n",
    "\n",
    "# Define target variable\n",
    "output = df_AllStations['available_bikes']"
   ]
  },
  {
   "cell_type": "code",
   "execution_count": 13,
   "metadata": {},
   "outputs": [
    {
     "name": "stdout",
     "output_type": "stream",
     "text": [
      "Training the model on 111360 rows and 16 columns.\n"
     ]
    }
   ],
   "source": [
    "# Split dataset to train and test\n",
    "X_train,X_test,Y_train,Y_test=train_test_split(input_model,output,test_size=0.33,random_state=42)\n",
    "print(\"Training the model on %s rows and %s columns.\" % X_train.shape)"
   ]
  },
  {
   "cell_type": "code",
   "execution_count": 14,
   "metadata": {},
   "outputs": [
    {
     "name": "stdout",
     "output_type": "stream",
     "text": [
      "Testing the model on 54850 rows.\n"
     ]
    }
   ],
   "source": [
    "# Instantiate RandomForestRegressor object calling 10 decision tree models\n",
    "rf = RandomForestRegressor(n_estimators=10)\n",
    "\n",
    "# Train the model\n",
    "rf.fit(X_train, Y_train)\n",
    "\n",
    "print(\"Testing the model on %s rows.\" % Y_test.shape[0])"
   ]
  },
  {
   "cell_type": "markdown",
   "metadata": {},
   "source": [
    "**model testing**  \n",
    "Using the trained model to predict the target feature availablebikes on the testing dataset"
   ]
  },
  {
   "cell_type": "code",
   "execution_count": 15,
   "metadata": {},
   "outputs": [],
   "source": [
    "# Get prediction for test cases\n",
    "prediction = rf.predict(X_test)\n",
    "\n",
    "#make a new datafram to show the predicted available bikes\n",
    "DF_Predicated = pd.DataFrame(prediction, columns=['Predicted'])\n",
    "\n",
    "#convert all the data for testing to a new datafram\n",
    "DF_Alltest = df_AllStations.iloc[Y_test]\n",
    "\n",
    "#reset the index\n",
    "DF_Bikes = pd.DataFrame(DF_Alltest['available_bikes']).reset_index(drop=True)\n",
    "\n",
    "#to get a clear comparisaon, concatenate two new datafram\n",
    "actual_vs_predicted= pd.concat([DF_Bikes,DF_Predicated], axis=1)"
   ]
  },
  {
   "cell_type": "code",
   "execution_count": 16,
   "metadata": {},
   "outputs": [
    {
     "name": "stdout",
     "output_type": "stream",
     "text": [
      "\n",
      "Predictions with multiple linear regression: \n",
      "\n"
     ]
    },
    {
     "data": {
      "text/html": [
       "<div>\n",
       "<style scoped>\n",
       "    .dataframe tbody tr th:only-of-type {\n",
       "        vertical-align: middle;\n",
       "    }\n",
       "\n",
       "    .dataframe tbody tr th {\n",
       "        vertical-align: top;\n",
       "    }\n",
       "\n",
       "    .dataframe thead th {\n",
       "        text-align: right;\n",
       "    }\n",
       "</style>\n",
       "<table border=\"1\" class=\"dataframe\">\n",
       "  <thead>\n",
       "    <tr style=\"text-align: right;\">\n",
       "      <th></th>\n",
       "      <th>available_bikes</th>\n",
       "      <th>Predicted</th>\n",
       "    </tr>\n",
       "  </thead>\n",
       "  <tbody>\n",
       "    <tr>\n",
       "      <th>0</th>\n",
       "      <td>21</td>\n",
       "      <td>14.500000</td>\n",
       "    </tr>\n",
       "    <tr>\n",
       "      <th>1</th>\n",
       "      <td>9</td>\n",
       "      <td>9.066667</td>\n",
       "    </tr>\n",
       "    <tr>\n",
       "      <th>2</th>\n",
       "      <td>17</td>\n",
       "      <td>12.316667</td>\n",
       "    </tr>\n",
       "    <tr>\n",
       "      <th>3</th>\n",
       "      <td>0</td>\n",
       "      <td>2.780000</td>\n",
       "    </tr>\n",
       "    <tr>\n",
       "      <th>4</th>\n",
       "      <td>29</td>\n",
       "      <td>10.075000</td>\n",
       "    </tr>\n",
       "    <tr>\n",
       "      <th>...</th>\n",
       "      <td>...</td>\n",
       "      <td>...</td>\n",
       "    </tr>\n",
       "    <tr>\n",
       "      <th>54845</th>\n",
       "      <td>0</td>\n",
       "      <td>0.000000</td>\n",
       "    </tr>\n",
       "    <tr>\n",
       "      <th>54846</th>\n",
       "      <td>0</td>\n",
       "      <td>10.323333</td>\n",
       "    </tr>\n",
       "    <tr>\n",
       "      <th>54847</th>\n",
       "      <td>0</td>\n",
       "      <td>2.100000</td>\n",
       "    </tr>\n",
       "    <tr>\n",
       "      <th>54848</th>\n",
       "      <td>11</td>\n",
       "      <td>0.650000</td>\n",
       "    </tr>\n",
       "    <tr>\n",
       "      <th>54849</th>\n",
       "      <td>29</td>\n",
       "      <td>11.800000</td>\n",
       "    </tr>\n",
       "  </tbody>\n",
       "</table>\n",
       "<p>54850 rows × 2 columns</p>\n",
       "</div>"
      ],
      "text/plain": [
       "       available_bikes  Predicted\n",
       "0                   21  14.500000\n",
       "1                    9   9.066667\n",
       "2                   17  12.316667\n",
       "3                    0   2.780000\n",
       "4                   29  10.075000\n",
       "...                ...        ...\n",
       "54845                0   0.000000\n",
       "54846                0  10.323333\n",
       "54847                0   2.100000\n",
       "54848               11   0.650000\n",
       "54849               29  11.800000\n",
       "\n",
       "[54850 rows x 2 columns]"
      ]
     },
     "execution_count": 16,
     "metadata": {},
     "output_type": "execute_result"
    }
   ],
   "source": [
    "print(\"\\nPredictions with multiple linear regression: \\n\")\n",
    "actual_vs_predicted"
   ]
  },
  {
   "cell_type": "markdown",
   "metadata": {},
   "source": [
    "**Model evaluation**  \n",
    "In order to evaluate the prediction effectiveness of our model, we compute the mean-absolute error, the mean squared error,the root-mean-square deviation and R2."
   ]
  },
  {
   "cell_type": "code",
   "execution_count": 17,
   "metadata": {},
   "outputs": [],
   "source": [
    "def printMetrics(testActualVal, predictions):\n",
    "    #classification evaluation measures\n",
    "    print('Error Evaluation')\n",
    "    print('==============================================================================')\n",
    "    print(\"MAE (Mean Absolute Error): \", metrics.mean_absolute_error(testActualVal, predictions))\n",
    "    print(\"MSE (Mean Squared Error): \", metrics.mean_squared_error(testActualVal, predictions))\n",
    "    print(\"RMSE (Root Mean Squared Error): \", metrics.mean_squared_error(testActualVal, predictions)**0.5)\n",
    "    print(\"R2: \", metrics.r2_score(testActualVal, predictions))"
   ]
  },
  {
   "cell_type": "code",
   "execution_count": 18,
   "metadata": {},
   "outputs": [
    {
     "name": "stdout",
     "output_type": "stream",
     "text": [
      "Error Evaluation\n",
      "==============================================================================\n",
      "MAE (Mean Absolute Error):  1.3868445433553593\n",
      "MSE (Mean Squared Error):  6.9584504010803245\n",
      "RMSE (Root Mean Squared Error):  2.6378874883285537\n",
      "R2:  0.9133136854343111\n"
     ]
    }
   ],
   "source": [
    "printMetrics(Y_test, prediction)"
   ]
  },
  {
   "cell_type": "markdown",
   "metadata": {},
   "source": [
    "The R² value implies that there is 94% less variation around the line than the mean. In other words, the relationship between the input variables and the number of available bikes accounts for 94% of the variation."
   ]
  },
  {
   "cell_type": "markdown",
   "metadata": {},
   "source": [
    "**Module integration**  \n",
    "In order to connect the ML model to our Flask web application, we need to produce a 'prediction-data' file from the trained model using the ***Pickle*** Python module.  \n",
    "Pickle allows us to store the prediction model in a file that we save on the server, in order to be used by the application to actually deliver a prediction based on the requested stations by the user."
   ]
  },
  {
   "cell_type": "code",
   "execution_count": 19,
   "metadata": {},
   "outputs": [],
   "source": [
    "pickle.dump(rf,open('final_prediction_bike.pickle', 'wb'))\n",
    "\n",
    "\n",
    "# This is not strictly functional to the application\n",
    "random_forest = pickle.load(open(\"final_prediction_bike.pickle\", \"rb\"))"
   ]
  },
  {
   "cell_type": "markdown",
   "metadata": {},
   "source": [
    "#### (2)Predict the number of available bikes"
   ]
  },
  {
   "cell_type": "markdown",
   "metadata": {},
   "source": [
    "**model training**"
   ]
  },
  {
   "cell_type": "code",
   "execution_count": 20,
   "metadata": {},
   "outputs": [],
   "source": [
    "# Select model features and store them in a new dataframe\n",
    "input_model = pd.DataFrame(df_AllStations[['number','temperature','windSpeed','hour','weekday_Friday', 'weekday_Monday',\n",
    "       'weekday_Saturday', 'weekday_Sunday', 'weekday_Thursday',\n",
    "       'weekday_Tuesday', 'weekday_Wednesday']])\n",
    "input_model = pd.concat([input_model,dummy_2],axis=1)\n",
    "\n",
    "# Define target variable\n",
    "output = df_AllStations['available_bike_stands']"
   ]
  },
  {
   "cell_type": "code",
   "execution_count": 21,
   "metadata": {},
   "outputs": [
    {
     "name": "stdout",
     "output_type": "stream",
     "text": [
      "Training the model on 111360 rows and 16 columns.\n",
      "Testing the model on 54850 rows.\n"
     ]
    }
   ],
   "source": [
    "# Split dataset to train and test\n",
    "X_train,X_test,Y_train,Y_test=train_test_split(input_model,output,test_size=0.33,random_state=42)\n",
    "print(\"Training the model on %s rows and %s columns.\" % X_train.shape)\n",
    "\n",
    "# Instantiate RandomForestRegressor object calling 10 decision tree models\n",
    "rf2 = RandomForestRegressor(n_estimators=10)\n",
    "\n",
    "# Train the model\n",
    "rf2.fit(X_train, Y_train)\n",
    "\n",
    "print(\"Testing the model on %s rows.\" % Y_test.shape[0])"
   ]
  },
  {
   "cell_type": "markdown",
   "metadata": {},
   "source": [
    "**model testing**\n",
    "  \n",
    " Using the trained model to predict the target feature availablebikes on the testing dataset"
   ]
  },
  {
   "cell_type": "code",
   "execution_count": 22,
   "metadata": {},
   "outputs": [],
   "source": [
    "# Get prediction for test cases\n",
    "prediction = rf2.predict(X_test)\n",
    "\n",
    "#make a new datafram to show the predicted available bikes\n",
    "DF_Predicated = pd.DataFrame(prediction, columns=['Predicted'])\n",
    "\n",
    "#convert all the data for testing to a new datafram\n",
    "DF_Alltest = df_AllStations.iloc[Y_test]\n",
    "\n",
    "#reset the index\n",
    "DF_Stands = pd.DataFrame(DF_Alltest['available_bike_stands']).reset_index(drop=True)\n",
    "\n",
    "#to get a clear comparisaon, concatenate two new datafram\n",
    "actual_vs_predicted= pd.concat([DF_Stands,DF_Predicated], axis=1)"
   ]
  },
  {
   "cell_type": "code",
   "execution_count": 23,
   "metadata": {},
   "outputs": [
    {
     "name": "stdout",
     "output_type": "stream",
     "text": [
      "\n",
      "Predictions with multiple linear regression: \n",
      "\n"
     ]
    },
    {
     "data": {
      "text/html": [
       "<div>\n",
       "<style scoped>\n",
       "    .dataframe tbody tr th:only-of-type {\n",
       "        vertical-align: middle;\n",
       "    }\n",
       "\n",
       "    .dataframe tbody tr th {\n",
       "        vertical-align: top;\n",
       "    }\n",
       "\n",
       "    .dataframe thead th {\n",
       "        text-align: right;\n",
       "    }\n",
       "</style>\n",
       "<table border=\"1\" class=\"dataframe\">\n",
       "  <thead>\n",
       "    <tr style=\"text-align: right;\">\n",
       "      <th></th>\n",
       "      <th>available_bike_stands</th>\n",
       "      <th>Predicted</th>\n",
       "    </tr>\n",
       "  </thead>\n",
       "  <tbody>\n",
       "    <tr>\n",
       "      <th>0</th>\n",
       "      <td>15</td>\n",
       "      <td>25.358333</td>\n",
       "    </tr>\n",
       "    <tr>\n",
       "      <th>1</th>\n",
       "      <td>13</td>\n",
       "      <td>24.133333</td>\n",
       "    </tr>\n",
       "    <tr>\n",
       "      <th>2</th>\n",
       "      <td>14</td>\n",
       "      <td>7.366667</td>\n",
       "    </tr>\n",
       "    <tr>\n",
       "      <th>3</th>\n",
       "      <td>30</td>\n",
       "      <td>27.580000</td>\n",
       "    </tr>\n",
       "    <tr>\n",
       "      <th>4</th>\n",
       "      <td>22</td>\n",
       "      <td>30.000000</td>\n",
       "    </tr>\n",
       "    <tr>\n",
       "      <th>...</th>\n",
       "      <td>...</td>\n",
       "      <td>...</td>\n",
       "    </tr>\n",
       "    <tr>\n",
       "      <th>54845</th>\n",
       "      <td>26</td>\n",
       "      <td>40.000000</td>\n",
       "    </tr>\n",
       "    <tr>\n",
       "      <th>54846</th>\n",
       "      <td>30</td>\n",
       "      <td>8.783333</td>\n",
       "    </tr>\n",
       "    <tr>\n",
       "      <th>54847</th>\n",
       "      <td>21</td>\n",
       "      <td>39.000000</td>\n",
       "    </tr>\n",
       "    <tr>\n",
       "      <th>54848</th>\n",
       "      <td>15</td>\n",
       "      <td>23.977381</td>\n",
       "    </tr>\n",
       "    <tr>\n",
       "      <th>54849</th>\n",
       "      <td>22</td>\n",
       "      <td>27.800000</td>\n",
       "    </tr>\n",
       "  </tbody>\n",
       "</table>\n",
       "<p>54850 rows × 2 columns</p>\n",
       "</div>"
      ],
      "text/plain": [
       "       available_bike_stands  Predicted\n",
       "0                         15  25.358333\n",
       "1                         13  24.133333\n",
       "2                         14   7.366667\n",
       "3                         30  27.580000\n",
       "4                         22  30.000000\n",
       "...                      ...        ...\n",
       "54845                     26  40.000000\n",
       "54846                     30   8.783333\n",
       "54847                     21  39.000000\n",
       "54848                     15  23.977381\n",
       "54849                     22  27.800000\n",
       "\n",
       "[54850 rows x 2 columns]"
      ]
     },
     "execution_count": 23,
     "metadata": {},
     "output_type": "execute_result"
    }
   ],
   "source": [
    "print(\"\\nPredictions with multiple linear regression: \\n\")\n",
    "actual_vs_predicted"
   ]
  },
  {
   "cell_type": "markdown",
   "metadata": {},
   "source": [
    "**model evaluation**  \n",
    "In order to evaluate the prediction effectiveness of our model, we compute the mean-absolute error, the mean squared error,the root-mean-square deviation and R2."
   ]
  },
  {
   "cell_type": "code",
   "execution_count": 24,
   "metadata": {},
   "outputs": [],
   "source": [
    "def printMetrics(testActualVal, predictions):\n",
    "    #classification evaluation measures\n",
    "    print('Error Evaluation of stands')\n",
    "    print('==============================================================================')\n",
    "    print(\"MAE (Mean Absolute Error): \", metrics.mean_absolute_error(testActualVal, predictions))\n",
    "    print(\"MSE (Mean Squared Error): \", metrics.mean_squared_error(testActualVal, predictions))\n",
    "    print(\"RMSE (Root Mean Squared Error): \", metrics.mean_squared_error(testActualVal, predictions)**0.5)\n",
    "    print(\"R2: \", metrics.r2_score(testActualVal, predictions))"
   ]
  },
  {
   "cell_type": "code",
   "execution_count": 25,
   "metadata": {},
   "outputs": [
    {
     "name": "stdout",
     "output_type": "stream",
     "text": [
      "Error Evaluation of stands\n",
      "==============================================================================\n",
      "MAE (Mean Absolute Error):  1.3916201635830838\n",
      "MSE (Mean Squared Error):  7.018051110943763\n",
      "RMSE (Root Mean Squared Error):  2.649160453982311\n",
      "R2:  0.9363235132700268\n"
     ]
    }
   ],
   "source": [
    "printMetrics(Y_test, prediction)"
   ]
  },
  {
   "cell_type": "markdown",
   "metadata": {},
   "source": [
    "The R² value implies that there is 94% less variation around the line than the mean. In other words, the relationship between the input variables and the number of available bikes accounts for 94% of the variation."
   ]
  },
  {
   "cell_type": "markdown",
   "metadata": {},
   "source": [
    "**Module integration**  \n",
    "In order to connect the ML model to our Flask web application, we need to produce a 'prediction-data' file from the trained model using the ***Pickle*** Python module.  \n",
    "Pickle allows us to store the prediction model in a file that we save on the server, in order to be used by the application to actually deliver a prediction based on the requested stations by the user."
   ]
  },
  {
   "cell_type": "code",
   "execution_count": 26,
   "metadata": {},
   "outputs": [],
   "source": [
    "pickle.dump(rf2,open('final_prediction_bike_stands.pickle', 'wb'))\n",
    "\n",
    "# This is not strictly functional to the application\n",
    "random_forest_stands=pickle.load(open(\"final_prediction_bike_stands.pickle\", \"rb\"))"
   ]
  }
 ],
 "metadata": {
  "kernelspec": {
   "display_name": "Python 3",
   "language": "python",
   "name": "python3"
  },
  "language_info": {
   "codemirror_mode": {
    "name": "ipython",
    "version": 3
   },
   "file_extension": ".py",
   "mimetype": "text/x-python",
   "name": "python",
   "nbconvert_exporter": "python",
   "pygments_lexer": "ipython3",
   "version": "3.8.1"
  }
 },
 "nbformat": 4,
 "nbformat_minor": 4
}
